{
 "cells": [
  {
   "cell_type": "code",
   "execution_count": 1,
   "metadata": {
    "collapsed": true
   },
   "outputs": [],
   "source": [
    "from d2l import AllDeepLearning as d2l\n",
    "from mxnet import autograd, nd\n",
    "import random\n",
    "\n",
    "\n",
    "def synthetic_data(w, b, num_examples):\n",
    "    \"\"\"Generate y = X dot w + b + noise.\"\"\"\n",
    "    X = nd.random.normal(0, 1, (num_examples, len(w)))\n",
    "    y = nd.dot(X, w) + b  # shape (num_examples, )\n",
    "    y += nd.random.normal(0, 0.01, y.shape)\n",
    "    return X, y\n",
    "\n",
    "\n",
    "true_w = nd.array([2, -3.4])\n",
    "true_b = 4.2\n",
    "features, labels = synthetic_data(true_w, true_b, 1000)\n",
    "\n"
   ]
  },
  {
   "cell_type": "code",
   "execution_count": 6,
   "outputs": [],
   "source": [
    "def data_iter(batch_size, features, labels):\n",
    "    \"\"\"\n",
    "    Iterate over the train data (features and labels) and yield the batch data for train data\n",
    "    :param batch_size:\n",
    "    :param features:\n",
    "    :param labels:\n",
    "    :return:\n",
    "    \"\"\"\n",
    "    num_examples = len(features)\n",
    "    indices = list(range(num_examples))\n",
    "    # The examples are read at random, in no particular order\n",
    "    random.shuffle(indices)\n",
    "    for i in range(0, num_examples, batch_size):\n",
    "        batch_indices = nd.array(\n",
    "            indices[i: min(i + batch_size, num_examples)])\n",
    "        yield features[batch_indices], labels[batch_indices]\n",
    "\n",
    "\n",
    "# w = nd.random.normal(0, 0.01, (2, 1))\n",
    "b = nd.zeros(1)\n",
    "w = nd.zeros((2, 1))\n",
    "\n",
    "w.attach_grad()\n",
    "b.attach_grad()\n",
    "\n",
    "\n",
    "\n"
   ],
   "metadata": {
    "collapsed": false,
    "pycharm": {
     "name": "#%%\n"
    }
   }
  },
  {
   "cell_type": "code",
   "execution_count": 17,
   "outputs": [],
   "source": [
    "def linreg(X, w, b):\n",
    "    return nd.dot(X, w) + b\n",
    "\n",
    "\n",
    "def squared_loss(y_hat, y):\n",
    "    return (y_hat - y.reshape(y_hat.shape)) ** 2 / 2\n",
    "\n",
    "\n",
    "def sgd(params, lr, batch_size):\n",
    "    for param in params:\n",
    "        # print(\"Param {} - value: {}\".format(str(param.shape), param))\n",
    "        # print(\"Param {} - grad {}\".format(str(param.shape), param.grad))\n",
    "        param[:] = param - lr * param.grad / batch_size\n",
    "\n"
   ],
   "metadata": {
    "collapsed": false,
    "pycharm": {
     "name": "#%%\n"
    }
   }
  },
  {
   "cell_type": "code",
   "execution_count": 10,
   "outputs": [],
   "source": [
    "lr = 0.03  # Learning rate\n",
    "num_epochs = 3  # Number of iterations\n",
    "net = linreg  # Our fancy linear model\n",
    "loss = squared_loss  # 0.5 (y-y')^2\n",
    "batch_size = 10\n",
    "\n",
    "\n"
   ],
   "metadata": {
    "collapsed": false,
    "pycharm": {
     "name": "#%%\n"
    }
   }
  },
  {
   "cell_type": "code",
   "execution_count": 20,
   "outputs": [
    {
     "name": "stdout",
     "output_type": "stream",
     "text": [
      "epoch 1, loss 0.000048\n",
      "epoch 2, loss 0.000048\n",
      "epoch 3, loss 0.000048\n",
      "Trained w: [[ 2.0000818]\n",
      " [-3.4001818]], b: [4.2006063]\n"
     ]
    }
   ],
   "source": [
    "for epoch in range(num_epochs):\n",
    "    # Assuming the number of examples can be divided by the batch size, all\n",
    "    # the examples in the training dataset are used once in one epoch\n",
    "    # iteration. The features and tags of minibatch examples are given by X\n",
    "    # and y respectively\n",
    "    for X, y in data_iter(batch_size, features, labels):\n",
    "        with autograd.record():\n",
    "            l = loss(net(X, w, b), y)  # Minibatch loss in X and y\n",
    "        l.backward()  # Compute gradient on l with respect to [w, b]\n",
    "        sgd([w, b], lr, batch_size)  # Update parameters using their gradient\n",
    "    train_l = loss(net(features, w, b), labels)\n",
    "    print('epoch %d, loss %f' % (epoch + 1, train_l.mean().asnumpy()))\n",
    "\n",
    "print(\"Trained w: {}, b: {}\".format(w.asnumpy(), b.asnumpy()))\n",
    "\n",
    "\n"
   ],
   "metadata": {
    "collapsed": false,
    "pycharm": {
     "name": "#%%\n"
    }
   }
  }
 ],
 "metadata": {
  "kernelspec": {
   "display_name": "Python 3",
   "language": "python",
   "name": "python3"
  },
  "language_info": {
   "codemirror_mode": {
    "name": "ipython",
    "version": 2
   },
   "file_extension": ".py",
   "mimetype": "text/x-python",
   "name": "python",
   "nbconvert_exporter": "python",
   "pygments_lexer": "ipython2",
   "version": "2.7.6"
  }
 },
 "nbformat": 4,
 "nbformat_minor": 0
}