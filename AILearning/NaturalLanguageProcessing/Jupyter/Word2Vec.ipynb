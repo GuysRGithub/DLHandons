{
 "cells": [
  {
   "cell_type": "code",
   "execution_count": 1,
   "metadata": {
    "collapsed": true
   },
   "outputs": [],
   "source": [
    "from d2l import AllDeepLearning as d2l\n",
    "from d2l import d2l_mx\n",
    "from mxnet import autograd, gluon, nd\n",
    "from mxnet.gluon import nn\n",
    "from AI.AILearning.NaturalLanguageProcessing import WordEmbedding as loader\n",
    "\n",
    "import math\n",
    "import random\n",
    "import zipfile\n",
    "import time\n",
    "\n",
    "\n"
   ]
  },
  {
   "cell_type": "code",
   "execution_count": 2,
   "outputs": [
    {
     "data": {
      "text/plain": "'sentences: 42069'"
     },
     "execution_count": 2,
     "metadata": {},
     "output_type": "execute_result"
    }
   ],
   "source": [
    "with zipfile.ZipFile('../../data/ptb.zip', 'r') as f:\n",
    "    raw_text = f.read('ptb/ptb.train.txt').decode(\"utf-8\").lower()\n",
    "\n",
    "sentences = [line.split() for line in raw_text.split(\"\\n\")]\n",
    "'sentences: %d' % len(sentences)\n"
   ],
   "metadata": {
    "collapsed": false,
    "pycharm": {
     "name": "#%%\n"
    }
   }
  },
  {
   "cell_type": "code",
   "execution_count": 3,
   "outputs": [
    {
     "data": {
      "text/plain": "'vocab size: 6719'"
     },
     "execution_count": 3,
     "metadata": {},
     "output_type": "execute_result"
    }
   ],
   "source": [
    "# Build vocabulary\n",
    "def expand(sentences):\n",
    "    \"\"\"\n",
    "    Expand list of token lists into a list of tokens\n",
    "    :param sentences:\n",
    "    :return:\n",
    "    \"\"\"\n",
    "    return [tk for line in sentences for tk in line]\n",
    "\n",
    "vocab = d2l_mx.Vocab(expand(sentences), min_freq=10)\n",
    "'vocab size: %d' % len(vocab)\n"
   ],
   "metadata": {
    "collapsed": false,
    "pycharm": {
     "name": "#%%\n"
    }
   }
  },
  {
   "cell_type": "code",
   "execution_count": 4,
   "outputs": [
    {
     "data": {
      "text/plain": "42069"
     },
     "execution_count": 4,
     "metadata": {},
     "output_type": "execute_result"
    }
   ],
   "source": [
    "import collections\n",
    "# Subsampling\n",
    "# Map low frequency words into <unk>\n",
    "sentences = [[vocab.idx_to_token[vocab[tk]] for tk in line] for line in sentences]\n",
    "tokens = expand(sentences)\n",
    "counter = collections.Counter(tokens)\n",
    "\n",
    "def discard(token):\n",
    "    \"\"\"\n",
    "\n",
    "    :param token:\n",
    "    :return: should discard token when it has too high frequency\n",
    "    \"\"\"\n",
    "    p = 1 - math.sqrt(1e-4 / counter[token] * len(tokens))\n",
    "    return random.uniform(0, 1) < p\n",
    "\n",
    "subsampled = [[tk for tk in line if not discard(tk)] for line in sentences]\n",
    "subsampled.__len__()"
   ],
   "metadata": {
    "collapsed": false,
    "pycharm": {
     "name": "#%%\n"
    }
   }
  },
  {
   "cell_type": "code",
   "execution_count": 5,
   "outputs": [
    {
     "data": {
      "text/plain": "<matplotlib.legend.Legend at 0x1dfa436ec18>"
     },
     "execution_count": 5,
     "metadata": {},
     "output_type": "execute_result"
    },
    {
     "data": {
      "text/plain": "<Figure size 576x288 with 1 Axes>",
      "image/png": "[encoded data removed]"
     },
     "metadata": {
      "needs_background": "light"
     },
     "output_type": "display_data"
    }
   ],
   "source": [
    "import matplotlib.pyplot as plt\n",
    "plt.figure(figsize=(8, 4))\n",
    "plt.hist([[len(line) for line in sentences], [len(line) for line in subsampled]])\n",
    "plt.legend(['origin', 'subsampled'])"
   ],
   "metadata": {
    "collapsed": false,
    "pycharm": {
     "name": "#%%\n"
    }
   }
  },
  {
   "cell_type": "code",
   "execution_count": 6,
   "outputs": [
    {
     "data": {
      "text/plain": "'count of \"join\": before-45, after-45'"
     },
     "execution_count": 6,
     "metadata": {},
     "output_type": "execute_result"
    }
   ],
   "source": [
    "def compare_counts(token):\n",
    "    return 'count of \"%s\": before-%d, after-%d' % (\n",
    "        token,\n",
    "        sum([line.count(token) for line in sentences],),\n",
    "        sum([line.count(token) for line in subsampled])\n",
    "    )\n",
    "\n",
    "compare_counts('join')"
   ],
   "metadata": {
    "collapsed": false,
    "pycharm": {
     "name": "#%%\n"
    }
   }
  },
  {
   "cell_type": "code",
   "execution_count": 7,
   "outputs": [
    {
     "data": {
      "text/plain": "[[0, 0, 0],\n [71, 2132, 18, 275],\n [140, 5464, 3080, 1595],\n [2476, 656, 2169, 954, 38, 302, 437, 3683],\n [941,\n  3,\n  3149,\n  262,\n  4,\n  6091,\n  4240,\n  6035,\n  987,\n  240,\n  759,\n  1014,\n  2785,\n  95,\n  430,\n  4114,\n  4,\n  1243],\n [3149, 4051, 495, 21, 112, 2651, 2473, 5249, 3003, 465, 1243]]"
     },
     "execution_count": 7,
     "metadata": {},
     "output_type": "execute_result"
    }
   ],
   "source": [
    "# Map each token into index to construct corpus\n",
    "corpus = [vocab[line] for line in subsampled]\n",
    "corpus[:6]"
   ],
   "metadata": {
    "collapsed": false,
    "pycharm": {
     "name": "#%%\n"
    }
   }
  },
  {
   "cell_type": "code",
   "execution_count": 8,
   "outputs": [
    {
     "name": "stdout",
     "output_type": "stream",
     "text": [
      "dataset [[0, 1, 2, 3, 4, 5, 6], [7, 8, 9]]\n",
      "center 0 has contexts [1]\n",
      "center 1 has contexts [0, 2]\n",
      "center 2 has contexts [1, 3]\n",
      "center 3 has contexts [1, 2, 4, 5]\n",
      "center 4 has contexts [3, 5]\n",
      "center 5 has contexts [3, 4, 6]\n",
      "center 6 has contexts [5]\n",
      "center 7 has contexts [8, 9]\n",
      "center 8 has contexts [7, 9]\n",
      "center 9 has contexts [8]\n"
     ]
    }
   ],
   "source": [
    "# extract central target words and context words\n",
    "def get_centers_and_contexts(corpus, max_window_size):\n",
    "    centers, contexts = [], []\n",
    "    for line in corpus:\n",
    "        # Need at least 2 words to form a central target - context word\n",
    "        if len(line) < 2:\n",
    "            continue\n",
    "        centers += line\n",
    "        for i in range(len(line)):\n",
    "            window_size = random.randint(1, max_window_size)\n",
    "            indices = list(range(max(0, i - window_size), min(len(line), i + 1 + window_size)))\n",
    "            indices.remove(i)\n",
    "            contexts.append([line[idx] for idx in indices])\n",
    "    return centers, contexts\n",
    "\n",
    "tiny_dataset=[list(range(7)),list(range(7,10))]\n",
    "print('dataset', tiny_dataset)\n",
    "for center, context in zip(*get_centers_and_contexts(tiny_dataset,2)):\n",
    "    print('center', center,'has contexts', context)"
   ],
   "metadata": {
    "collapsed": false,
    "pycharm": {
     "name": "#%%\n"
    }
   }
  },
  {
   "cell_type": "code",
   "execution_count": 9,
   "outputs": [
    {
     "data": {
      "text/plain": "'center-context pairs: 353163'"
     },
     "execution_count": 9,
     "metadata": {},
     "output_type": "execute_result"
    }
   ],
   "source": [
    "all_centers, all_contexts = get_centers_and_contexts(corpus, 5)\n",
    "'center-context pairs: %d' % len(all_centers)"
   ],
   "metadata": {
    "collapsed": false,
    "pycharm": {
     "name": "#%%\n"
    }
   }
  },
  {
   "cell_type": "code",
   "execution_count": 10,
   "outputs": [
    {
     "data": {
      "text/plain": "0"
     },
     "execution_count": 10,
     "metadata": {},
     "output_type": "execute_result"
    }
   ],
   "source": [
    "class RandomGenerator(object):\n",
    "    \"\"\"\n",
    "    Draw a random int in [0, n] according to n sampling weights\n",
    "    \"\"\"\n",
    "    def __init__(self, sampling_weights):\n",
    "        self.population = list(range(len(sampling_weights)))\n",
    "        self.sampling_weights = sampling_weights\n",
    "        self.candidates = []\n",
    "        self.i = 0\n",
    "\n",
    "    def draw(self):\n",
    "        if self.i == len(self.candidates):\n",
    "            # cache 10000 random number\n",
    "            self.candidates = random.choices(self.population, self.sampling_weights, k=10000)\n",
    "            self.i = 0\n",
    "        self.i += 1\n",
    "        return self.candidates[self.i - 1]\n",
    "\n",
    "\n",
    "generator = RandomGenerator([2, 3, 4])\n",
    "generator.draw()"
   ],
   "metadata": {
    "collapsed": false,
    "pycharm": {
     "name": "#%%\n"
    }
   }
  },
  {
   "cell_type": "code",
   "execution_count": 11,
   "outputs": [],
   "source": [
    "counter = collections.Counter(expand(corpus))\n",
    "sampling_weights = [counter[i] ** 0.75 for i in range(len(counter))]\n",
    "\n",
    "def get_negatives(all_ctxs, sampling_weights, K):\n",
    "    all_negatives = []\n",
    "    generator = RandomGenerator(sampling_weights=sampling_weights)\n",
    "    for contexts in all_ctxs:\n",
    "        negatives = []\n",
    "        while len(negatives) < len(contexts) * K:\n",
    "            neg = generator.draw()\n",
    "            # Noise word cannot be ctx words\n",
    "            if neg not in contexts:\n",
    "                negatives.append(neg)\n",
    "        all_negatives.append(negatives)\n",
    "    return all_negatives\n",
    "\n",
    "all_negatives = get_negatives(all_contexts, sampling_weights=sampling_weights, K=5)"
   ],
   "metadata": {
    "collapsed": false,
    "pycharm": {
     "name": "#%%\n"
    }
   }
  },
  {
   "cell_type": "code",
   "execution_count": 17,
   "outputs": [
    {
     "name": "stdout",
     "output_type": "stream",
     "text": [
      "centers - [[1]\n",
      " [1]]\n",
      "contexts_negative - [[2 2 3 3 3 3]\n",
      " [2 2 2 3 3 0]]\n",
      "masks - [[1 1 1 1 1 1]\n",
      " [1 1 1 1 1 0]]\n",
      "labels - [[1 1 0 0 0 0]\n",
      " [1 1 1 0 0 0]]\n"
     ]
    }
   ],
   "source": [
    "import numpy as np\n",
    "def batchify(data):\n",
    "    \"\"\"\n",
    "    Construct mini-batch by concatenate the ctx word and noise word of each example and add 0s for padding\n",
    "    To avoid effect of padding on the loss func, using mask variable with same shape and has value 0 if position is\n",
    "    padding otherwise is 1\n",
    "    To know which is the positive and negative samples, using labels variable similar to masks variable\n",
    "    :param data:\n",
    "    :return:\n",
    "    \"\"\"\n",
    "    max_len = max(len(c) + len(n) for _, c, n in data)\n",
    "    centers, contexts_negatives, masks, labels = [], [], [], []\n",
    "    for center, context, negative in data:\n",
    "        cur_len = len(context) + len(negative)\n",
    "        centers += [center]\n",
    "        contexts_negatives += [context + negative + [0] * (max_len - cur_len)]\n",
    "        masks += [[1] * cur_len + [0] * (max_len - cur_len)]\n",
    "        labels += [[1] * len(context) + [0] * (max_len - len(context))]\n",
    "    return np.array(centers).reshape((-1, 1)), np.array(contexts_negatives), np.array(masks), np.array(labels)\n",
    "\n",
    "\n",
    "x_1 = (1, [2, 2], [3, 3, 3, 3])\n",
    "x_2 = (1, [2, 2, 2], [3, 3])\n",
    "batch = batchify((x_1, x_2))\n",
    "\n",
    "names = ['centers', 'contexts_negative', \"masks\", 'labels']\n",
    "for name, data in zip(names, batch):\n",
    "    print(name, '-', data)"
   ],
   "metadata": {
    "collapsed": false,
    "pycharm": {
     "name": "#%%\n"
    }
   }
  },
  {
   "cell_type": "code",
   "execution_count": 20,
   "outputs": [
    {
     "name": "stdout",
     "output_type": "stream",
     "text": [
      "centers shape = (512, 1)\n",
      "contexts_negative shape = (512, 60)\n",
      "masks shape = (512, 60)\n",
      "labels shape = (512, 60)\n"
     ]
    }
   ],
   "source": [
    "# dataset with batch size 512 contain center, context, mask and label\n",
    "batch_size = 512\n",
    "dataset = gluon.data.ArrayDataset(all_centers, all_contexts, all_negatives)\n",
    "data_iter = gluon.data.DataLoader(dataset, batch_size=batch_size, shuffle=True, batchify_fn=batchify)\n",
    "# each loop with take a tuple of batch_size center, context, mask and label\n",
    "for batch in data_iter:\n",
    "    for name, data in zip(names, batch):\n",
    "        print(name, 'shape =', data.shape)\n",
    "    break"
   ],
   "metadata": {
    "collapsed": false,
    "pycharm": {
     "name": "#%%\n"
    }
   }
  },
  {
   "cell_type": "code",
   "execution_count": 21,
   "outputs": [
    {
     "data": {
      "text/plain": "Parameter embedding0_weight (shape=(20, 4), dtype=float32)"
     },
     "execution_count": 21,
     "metadata": {},
     "output_type": "execute_result"
    }
   ],
   "source": [
    "embed = nn.Embedding(input_dim=20, output_dim=4)\n",
    "embed.initialize()\n",
    "embed.weight"
   ],
   "metadata": {
    "collapsed": false,
    "pycharm": {
     "name": "#%%\n"
    }
   }
  },
  {
   "cell_type": "code",
   "execution_count": 24,
   "outputs": [
    {
     "data": {
      "text/plain": "\n[[0.01438687 0.05011239 0.00628365 0.04861524]]\n<NDArray 1x4 @cpu(0)>"
     },
     "execution_count": 24,
     "metadata": {},
     "output_type": "execute_result"
    }
   ],
   "source": [
    "# the input of embedding layer is index of word, When enter index i of word\n",
    "# the embedding layer return the ith row of the weight matrix as its word vector\n",
    "embed(nd.array([1]))"
   ],
   "metadata": {
    "collapsed": false,
    "pycharm": {
     "name": "#%%\n"
    }
   }
  },
  {
   "cell_type": "code",
   "execution_count": 26,
   "outputs": [
    {
     "data": {
      "text/plain": "(1, 3, 2)"
     },
     "execution_count": 26,
     "metadata": {},
     "output_type": "execute_result"
    }
   ],
   "source": [
    "# mini batch multiplication\n",
    "# a batch with shape (n, a, b) and another batch with shape (n, a, c) with n is batch_size multi\n",
    "# return batch with shape (n, a, c)\n",
    "X = nd.ones((1, 3, 5))\n",
    "Y = nd.ones((1, 5, 2))\n",
    "nd.batch_dot(X, Y).shape"
   ],
   "metadata": {
    "collapsed": false,
    "pycharm": {
     "name": "#%%\n"
    }
   }
  },
  {
   "cell_type": "code",
   "execution_count": 30,
   "outputs": [
    {
     "name": "stdout",
     "output_type": "stream",
     "text": [
      "(2, 4, 3)\n"
     ]
    },
    {
     "data": {
      "text/plain": "(2, 1, 3)"
     },
     "execution_count": 30,
     "metadata": {},
     "output_type": "execute_result"
    }
   ],
   "source": [
    "# in forward in skip-gram the central word has shape (batch_size, 1)\n",
    "# and the concatenate context negative words has shape (batch_size, max_len), which will\n",
    "# be transform from word indexes to word vectors by the word embedding layer\n",
    "# and the output with shape (batch_size, 1, max_len) is obtained by mini batch dot\n",
    "\n",
    "def skip_gram(center, contexts_negatives, embed_v, embed_u):\n",
    "    v = embed_v(center)\n",
    "    u = embed_u(contexts_negatives)\n",
    "    pred = nd.batch_dot(v, u.swapaxes(1, 2))\n",
    "    return pred\n",
    "\n",
    "skip_gram(nd.ones((2,1)), nd.ones((2,3)), embed, embed).shape"
   ],
   "metadata": {
    "collapsed": false,
    "pycharm": {
     "name": "#%%\n"
    }
   }
  },
  {
   "cell_type": "code",
   "execution_count": 33,
   "outputs": [
    {
     "name": "stdout",
     "output_type": "stream",
     "text": [
      "(2, 4) (2, 4) (2, 4)\n"
     ]
    },
    {
     "data": {
      "text/plain": "\n[0.48055774 0.3620385 ]\n<NDArray 2 @cpu(0)>"
     },
     "execution_count": 33,
     "metadata": {},
     "output_type": "execute_result"
    }
   ],
   "source": [
    "# Use mask to avoid padding participate in loss calculation\n",
    "# when the mask is 0 the pred value will not take affect, 1 otherwise\n",
    "loss = gluon.loss.SigmoidBinaryCrossEntropyLoss()\n",
    "pred = nd.array([[.5]*4]*2)\n",
    "label = nd.array([[1, 0, 1, 0]]*2)\n",
    "mask = nd.array([[1, 1, 1, 0], [1, 1, 0, 0]])\n",
    "print(pred.shape, label.shape, mask.shape)\n",
    "loss(pred, label, mask)"
   ],
   "metadata": {
    "collapsed": false,
    "pycharm": {
     "name": "#%%\n"
    }
   }
  }
 ],
 "metadata": {
  "kernelspec": {
   "display_name": "Python 3",
   "language": "python",
   "name": "python3"
  },
  "language_info": {
   "codemirror_mode": {
    "name": "ipython",
    "version": 2
   },
   "file_extension": ".py",
   "mimetype": "text/x-python",
   "name": "python",
   "nbconvert_exporter": "python",
   "pygments_lexer": "ipython2",
   "version": "2.7.6"
  }
 },
 "nbformat": 4,
 "nbformat_minor": 0
}